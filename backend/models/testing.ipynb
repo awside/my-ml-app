{
 "cells": [
  {
   "cell_type": "code",
   "execution_count": 4,
   "id": "b5266bd8",
   "metadata": {},
   "outputs": [
    {
     "name": "stdout",
     "output_type": "stream",
     "text": [
      "['Age', 'Height_in', 'Weight_lbs', 'Smoker']\n"
     ]
    }
   ],
   "source": [
    "import pandas as pd\n",
    "\n",
    "# Go up one directory (from models to backend), then into data/\n",
    "df = pd.read_csv(\"../data/smoker.csv\")\n",
    "\n",
    "print(list(df.columns))"
   ]
  },
  {
   "cell_type": "code",
   "execution_count": 5,
   "id": "9422e6c4",
   "metadata": {},
   "outputs": [
    {
     "name": "stdout",
     "output_type": "stream",
     "text": [
      "{'name': 'Age', 'type': 'numerical'}\n",
      "{'name': 'Height_in', 'type': 'numerical'}\n",
      "{'name': 'Weight_lbs', 'type': 'numerical'}\n",
      "{'name': 'Smoker', 'type': 'categorical'}\n"
     ]
    }
   ],
   "source": [
    "simplified_types = []\n",
    "\n",
    "for col in df.columns:\n",
    "    dtype = df[col].dtype\n",
    "\n",
    "    if pd.api.types.is_numeric_dtype(dtype):\n",
    "        category = \"numerical\"\n",
    "    elif pd.api.types.is_datetime64_any_dtype(dtype):\n",
    "        category = \"date\"\n",
    "    else:\n",
    "        category = \"categorical\"\n",
    "\n",
    "    simplified_types.append({\"name\": col, \"type\": category})\n",
    "\n",
    "for item in simplified_types:\n",
    "    print(item)"
   ]
  },
  {
   "cell_type": "code",
   "execution_count": 6,
   "id": "6ec301a2",
   "metadata": {},
   "outputs": [
    {
     "name": "stdout",
     "output_type": "stream",
     "text": [
      "{'shape': (100, 4)}\n"
     ]
    }
   ],
   "source": [
    "print({\"shape\": df.shape})"
   ]
  },
  {
   "cell_type": "code",
   "execution_count": 10,
   "id": "5dd83389",
   "metadata": {},
   "outputs": [
    {
     "name": "stdout",
     "output_type": "stream",
     "text": [
      "Age {'count': 100.0, 'mean': 34.78, 'std': 5.544275416949442, 'min': 19.0, '25%': 31.0, '50%': 35.0, '75%': 38.0, 'max': 52.0}\n",
      "Height_in {'count': 100.0, 'mean': 69.49, 'std': 3.1734218220410066, 'min': 60.0, '25%': 67.0, '50%': 70.0, '75%': 71.0, 'max': 77.0}\n",
      "Weight_lbs {'count': 100.0, 'mean': 169.92, 'std': 15.341684155504986, 'min': 125.0, '25%': 160.75, '50%': 169.0, '75%': 183.0, 'max': 203.0}\n"
     ]
    }
   ],
   "source": [
    "for column, metrics in df.describe().to_dict().items():\n",
    "    print(column, metrics)"
   ]
  }
 ],
 "metadata": {
  "kernelspec": {
   "display_name": ".venv",
   "language": "python",
   "name": "python3"
  },
  "language_info": {
   "codemirror_mode": {
    "name": "ipython",
    "version": 3
   },
   "file_extension": ".py",
   "mimetype": "text/x-python",
   "name": "python",
   "nbconvert_exporter": "python",
   "pygments_lexer": "ipython3",
   "version": "3.13.2"
  }
 },
 "nbformat": 4,
 "nbformat_minor": 5
}
