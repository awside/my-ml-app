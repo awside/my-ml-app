{
 "cells": [
  {
   "cell_type": "code",
   "execution_count": 36,
   "id": "d16ea06b",
   "metadata": {},
   "outputs": [],
   "source": [
    "import pandas as pd\n",
    "import numpy as np\n",
    "import seaborn as sns\n",
    "import matplotlib.pyplot as plt\n",
    "\n",
    "df = pd.DataFrame()\n",
    "\n",
    "df = pd.DataFrame(columns=[\"Age\", \"Height_in\", \"Weight_lbs\", \"Smoker\"])\n",
    "\n",
    "df[\"Age\"] = np.random.normal(loc=35, scale=5, size=100).astype(int)\n",
    "df[\"Height_in\"] = np.random.normal(loc=70, scale=3, size=100).astype(int)\n",
    "df[\"Weight_lbs\"] = np.random.normal(loc=170, scale=15, size=100).astype(int)\n",
    "df[\"Smoker\"] = np.random.choice([0, 1], size=100, p=[0.7, 0.3])"
   ]
  },
  {
   "cell_type": "code",
   "execution_count": 37,
   "id": "31ff7d56",
   "metadata": {},
   "outputs": [],
   "source": [
    "df = pd.read_csv(\"smoker.csv\")"
   ]
  }
 ],
 "metadata": {
  "kernelspec": {
   "display_name": ".venv",
   "language": "python",
   "name": "python3"
  },
  "language_info": {
   "codemirror_mode": {
    "name": "ipython",
    "version": 3
   },
   "file_extension": ".py",
   "mimetype": "text/x-python",
   "name": "python",
   "nbconvert_exporter": "python",
   "pygments_lexer": "ipython3",
   "version": "3.13.2"
  }
 },
 "nbformat": 4,
 "nbformat_minor": 5
}
